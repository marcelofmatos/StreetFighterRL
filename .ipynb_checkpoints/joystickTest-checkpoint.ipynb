{
 "cells": [
  {
   "cell_type": "code",
   "execution_count": 1,
   "id": "f24c00bd-a1b9-448f-938d-fdc892120f34",
   "metadata": {},
   "outputs": [
    {
     "name": "stdout",
     "output_type": "stream",
     "text": [
      "pygame 2.1.3 (SDL 2.0.16, Python 3.6.15)\n",
      "Hello from the pygame community. https://www.pygame.org/contribute.html\n",
      "Controle detectado: Sony Interactive Entertainment Wireless Controller\n",
      "Número de botões: 13\n",
      "Número de eixos: 6\n",
      "Número de hats (D-Pads): 1\n",
      "Eixo 0: 0.00    Eixo 1: 0.00    Eixo 2: -1.00    Eixo 3: 0.00    Eixo 4: 0.00    Eixo 5: -1.00    Botão 0: _    Botão 1: _    Botão 2: _    Botão 3: _    Botão 4: _    Botão 5: _    Botão 6: _    Botão 7: _    Botão 8: _    Botão 9: _    Botão 10: _    Botão 11: _    Botão 12: _    D-Pad 0: (0, 0)     ixo 1: 0.00    Eixo 2: -1.00    Eixo 3: 0.00    Eixo 4: 0.00    Eixo 5: -1.00    Botão 0: _    Botão 1: _    Botão 2: _    Botão 3: _    Botão 4: _    Botão 5: _    Botão 6: _    Botão 7: _    Botão 8: _    Botão 9: _    Botão 10: _    Botão 11: _    Botão 12: _    D-Pad 0: (1, 0)    Eixo 1: 0.00    Eixo 2: -1.00    Eixo 3: 0.00    Eixo 4: 0.00    Eixo 5: -1.00    Botão 0: _    Botão 1: _    Botão 2: _    Botão 3: _    Botão 4: _    Botão 5: _    Botão 6: _    Botão 7: _    Botão 8: _    Botão 9: _    Botão 10: _    Botão 11: _    Botão 12: _    D-Pad 0: (1, 0)    Botão 0: _    Botão 1: _    Botão 2: _    Botão 3: _    Botão 4: _    Botão 5: _    Botão 6: _    Botão 7: _    Botão 8: _    Botão 9: _    Botão 10: _    Botão 11: _    Botão 12: _    D-Pad 0: (-1, 0)    Eixo 2: -1.00    Eixo 3: 0.00    Eixo 4: 0.00    Eixo 5: -1.00    Botão 0: _    Botão 1: _    Botão 2: _    Botão 3: O    Botão 4: _    Botão 5: _    Botão 6: _    Botão 7: _    Botão 8: _    Botão 9: _    Botão 10: _    Botão 11: _    Botão 12: _    D-Pad 0: (0, 0)    Eixo 3: 0.00    Eixo 4: 0.00    Eixo 5: -1.00    Botão 0: _    Botão 1: _    Botão 2: _    Botão 3: _    Botão 4: _    Botão 5: _    Botão 6: _    Botão 7: _    Botão 8: _    Botão 9: _    Botão 10: _    Botão 11: _    Botão 12: _    D-Pad 0: (0, 0)    Eixo 4: 0.00    Eixo 5: -1.00    Botão 0: _    Botão 1: _    Botão 2: _    Botão 3: _    Botão 4: _    Botão 5: _    Botão 6: _    Botão 7: _    Botão 8: _    Botão 9: _    Botão 10: _    Botão 11: _    Botão 12: _    D-Pad 0: (0, 0)    Eixo 3: 0.00    Eixo 4: 0.00    Eixo 5: -1.00    Botão 0: _    Botão 1: _    Botão 2: _    Botão 3: _    Botão 4: _    Botão 5: _    Botão 6: _    Botão 7: _    Botão 8: _    Botão 9: _    Botão 10: _    Botão 11: _    Botão 12: _    D-Pad 0: (0, 0)    Botão 9: _    Botão 10: _    Botão 11: _    Botão 12: _    D-Pad 0: (0, 0)    Eixo 1: 0.00    Eixo 2: -1.00    Eixo 3: 0.00    Eixo 4: 0.00    Eixo 5: -1.00    Botão 0: O    Botão 1: _    Botão 2: _    Botão 3: _    Botão 4: _    Botão 5: _    Botão 6: _    Botão 7: _    Botão 8: _    Botão 9: _    Botão 10: _    Botão 11: _    Botão 12: _    D-Pad 0: (0, 0)    Eixo 4: 0.00    Eixo 5: -1.00    Botão 0: _    Botão 1: _    Botão 2: _    Botão 3: _    Botão 4: _    Botão 5: _    Botão 6: _    Botão 7: _    Botão 8: _    Botão 9: _    Botão 10: _    Botão 11: _    Botão 12: _    D-Pad 0: (0, 0)    Eixo 1: 0.00    Eixo 2: -1.00    Eixo 3: 0.00    Eixo 4: 0.00    Eixo 5: -1.00    Botão 0: _    Botão 1: _    Botão 2: _    Botão 3: _    Botão 4: _    Botão 5: O    Botão 6: _    Botão 7: _    Botão 8: _    Botão 9: _    Botão 10: _    Botão 11: _    Botão 12: _    D-Pad 0: (0, 0)        Botão 8: _    Botão 9: _    Botão 10: _    Botão 11: _    Botão 12: _    D-Pad 0: (0, 0)    Eixo 1: 0.00    Eixo 2: -1.00    Eixo 3: 0.00    Eixo 4: 0.00    Eixo 5: -1.00    Botão 0: _    Botão 1: _    Botão 2: _    Botão 3: _    Botão 4: _    Botão 5: _    Botão 6: _    Botão 7: _    Botão 8: _    Botão 9: _    Botão 10: _    Botão 11: _    Botão 12: _    D-Pad 0: (0, 0)    Eixo 3: 0.00    Eixo 4: 0.00    Eixo 5: -1.00    Botão 0: O    Botão 1: _    Botão 2: _    Botão 3: _    Botão 4: _    Botão 5: _    Botão 6: _    Botão 7: _    Botão 8: _    Botão 9: _    Botão 10: _    Botão 11: _    Botão 12: _    D-Pad 0: (0, 0)    Eixo 1: 0.00    Eixo 2: -1.00    Eixo 3: 0.00    Eixo 4: 0.00    Eixo 5: -1.00    Botão 0: _    Botão 1: _    Botão 2: _    Botão 3: _    Botão 4: _    Botão 5: _    Botão 6: _    Botão 7: _    Botão 8: _    Botão 9: _    Botão 10: _    Botão 11: _    Botão 12: _    D-Pad 0: (0, 0)    Eixo 1: 0.00    Eixo 2: -1.00    Eixo 3: 0.00    Eixo 4: 0.00    Eixo 5: -1.00    Botão 0: _    Botão 1: _    Botão 2: _    Botão 3: _    Botão 4: _    Botão 5: _    Botão 6: _    Botão 7: _    Botão 8: _    Botão 9: O    Botão 10: _    Botão 11: _    Botão 12: _    D-Pad 0: (0, 0)    Eixo 1: 0.00    Eixo 2: -1.00    Eixo 3: 0.00    Eixo 4: 0.00    Eixo 5: -1.00    Botão 0: _    Botão 1: _    Botão 2: _    Botão 3: _    Botão 4: _    Botão 5: _    Botão 6: _    Botão 7: _    Botão 8: _    Botão 9: O    Botão 10: _    Botão 11: _    Botão 12: _    D-Pad 0: (0, 0)    Eixo 2: -1.00    Eixo 3: 0.00    Eixo 4: 0.00    Eixo 5: -1.00    Botão 0: _    Botão 1: _    Botão 2: _    Botão 3: _    Botão 4: _    Botão 5: _    Botão 6: _    Botão 7: _    Botão 8: _    Botão 9: _    Botão 10: _    Botão 11: _    Botão 12: _    D-Pad 0: (0, 0)    Botão 5: _    Botão 6: _    Botão 7: _    Botão 8: _    Botão 9: _    Botão 10: _    Botão 11: _    Botão 12: _    D-Pad 0: (0, 0)    Eixo 1: 0.00    Eixo 2: -1.00    Eixo 3: 0.00    Eixo 4: 0.00    Eixo 5: -1.00    Botão 0: _    Botão 1: _    Botão 2: _    Botão 3: _    Botão 4: _    Botão 5: _    Botão 6: _    Botão 7: _    Botão 8: _    Botão 9: _    Botão 10: _    Botão 11: _    Botão 12: _    D-Pad 0: (0, 0)    Eixo 5: -1.00    Botão 0: _    Botão 1: _    Botão 2: _    Botão 3: _    Botão 4: _    Botão 5: _    Botão 6: _    Botão 7: _    Botão 8: _    Botão 9: _    Botão 10: _    Botão 11: _    Botão 12: _    D-Pad 0: (-1, 0)    Eixo 1: 0.00    Eixo 2: -1.00    Eixo 3: 0.00    Eixo 4: 0.00    Eixo 5: -1.00    Botão 0: _    Botão 1: _    Botão 2: _    Botão 3: _    Botão 4: _    Botão 5: _    Botão 6: _    Botão 7: _    Botão 8: _    Botão 9: _    Botão 10: _    Botão 11: _    Botão 12: _    D-Pad 0: (0, 0)    Eixo 1: 0.00    Eixo 2: -1.00    Eixo 3: 0.00    Eixo 4: 0.00    Eixo 5: -1.00    Botão 0: _    Botão 1: _    Botão 2: _    Botão 3: _    Botão 4: _    Botão 5: _    Botão 6: _    Botão 7: _    Botão 8: _    Botão 9: _    Botão 10: _    Botão 11: _    Botão 12: _    D-Pad 0: (0, 0)    Eixo 5: -1.00    Botão 0: _    Botão 1: _    Botão 2: _    Botão 3: _    Botão 4: _    Botão 5: _    Botão 6: _    Botão 7: _    Botão 8: _    Botão 9: _    Botão 10: _    Botão 11: _    Botão 12: _    D-Pad 0: (0, 0)    \n",
      "Teste encerrado pelo usuário.\n"
     ]
    }
   ],
   "source": [
    "import pygame\n",
    "import time\n",
    "\n",
    "# Inicializar pygame e módulos de joystick\n",
    "pygame.init()\n",
    "pygame.joystick.init()\n",
    "\n",
    "# Verificar se há algum joystick conectado\n",
    "if pygame.joystick.get_count() == 0:\n",
    "    raise SystemExit(\"Erro: Nenhum controle detectado.\")\n",
    "else:\n",
    "    joystick = pygame.joystick.Joystick(0)\n",
    "    joystick.init()\n",
    "    print(f\"Controle detectado: {joystick.get_name()}\")\n",
    "    print(f\"Número de botões: {joystick.get_numbuttons()}\")\n",
    "    print(f\"Número de eixos: {joystick.get_numaxes()}\")\n",
    "    print(f\"Número de hats (D-Pads): {joystick.get_numhats()}\")\n",
    "\n",
    "try:\n",
    "    # Loop para capturar as entradas continuamente\n",
    "    while True:\n",
    "        pygame.event.pump()  # Atualizar os eventos de pygame\n",
    "\n",
    "        # Capturar valores dos eixos\n",
    "        for i in range(joystick.get_numaxes()):\n",
    "            axis = joystick.get_axis(i)\n",
    "            print(f\"Eixo {i}: {axis:.2f}\", end=\"    \")\n",
    "\n",
    "        # Capturar estados dos botões\n",
    "        for i in range(joystick.get_numbuttons()):\n",
    "            button = joystick.get_button(i)\n",
    "            print(f\"Botão {i}: {'O' if button else '_'}\", end=\"    \")\n",
    "\n",
    "        # Capturar estados do D-Pad (hat)\n",
    "        for i in range(joystick.get_numhats()):\n",
    "            hat = joystick.get_hat(i)\n",
    "            print(f\"D-Pad {i}: {hat}\", end=\"    \")\n",
    "\n",
    "        # Exibir uma linha de status\n",
    "        print(\"\\r\", end=\"\")  # Retorna ao início da linha para atualizar a mesma linha\n",
    "        time.sleep(0.1)  # Pequeno atraso para suavizar a atualização\n",
    "\n",
    "except KeyboardInterrupt:\n",
    "    print(\"\\nTeste encerrado pelo usuário.\")\n",
    "\n",
    "finally:\n",
    "    # Fechar o pygame\n",
    "    pygame.quit()\n"
   ]
  },
  {
   "cell_type": "code",
   "execution_count": null,
   "id": "62021d69-f27d-4dc3-b772-e6b2ad5023fb",
   "metadata": {},
   "outputs": [],
   "source": []
  },
  {
   "cell_type": "code",
   "execution_count": null,
   "id": "a9de2e8b-e4fb-442d-b435-41ebd7ecc94b",
   "metadata": {},
   "outputs": [],
   "source": []
  }
 ],
 "metadata": {
  "kernelspec": {
   "display_name": "Python 3",
   "language": "python",
   "name": "python3"
  },
  "language_info": {
   "codemirror_mode": {
    "name": "ipython",
    "version": 3
   },
   "file_extension": ".py",
   "mimetype": "text/x-python",
   "name": "python",
   "nbconvert_exporter": "python",
   "pygments_lexer": "ipython3",
   "version": "3.6.15"
  }
 },
 "nbformat": 4,
 "nbformat_minor": 5
}
